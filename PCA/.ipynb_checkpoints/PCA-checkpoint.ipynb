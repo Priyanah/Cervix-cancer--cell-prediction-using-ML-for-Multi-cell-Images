{
 "cells": [
  {
   "cell_type": "code",
   "execution_count": 3,
   "id": "92a78aaa",
   "metadata": {},
   "outputs": [],
   "source": [
    "import os\n",
    "import cv2\n",
    "import numpy as np\n",
    "from sklearn.decomposition import PCA\n",
    "from sklearn.preprocessing import StandardScaler\n",
    "\n",
    "# Define the path to the folder containing the images\n",
    "folder_path = 'carcinoma_in_situ'\n",
    "\n",
    "# Initialize an empty list to store the feature vectors\n",
    "feature_vectors = []\n",
    "\n",
    "# Loop through each image in the folder\n",
    "for filename in os.listdir(folder_path):\n",
    "    image_path = os.path.join(folder_path, filename)\n",
    "\n",
    "    # Read the image using OpenCV\n",
    "    image = cv2.imread(image_path)\n",
    "\n",
    "    # Convert the image to grayscale\n",
    "    gray_image = cv2.cvtColor(image, cv2.COLOR_BGR2GRAY)\n",
    "\n",
    "    # Reshape the grayscale image into a 1D vector\n",
    "    features = gray_image.reshape(-1)\n",
    "\n",
    "    # Append the feature vector to the list\n",
    "    feature_vectors.append(features)\n",
    "\n",
    "# Find the maximum length of the feature vectors\n",
    "max_length = max(len(features) for features in feature_vectors)\n",
    "\n",
    "# Pad feature vectors with zeros to make them all the same length\n",
    "padded_feature_vectors = []\n",
    "for features in feature_vectors:\n",
    "    padding = max_length - len(features)\n",
    "    padded_features = np.pad(features, (0, padding), mode='constant')\n",
    "    padded_feature_vectors.append(padded_features)\n",
    "\n",
    "# Convert the padded_feature_vectors list to a numpy array\n",
    "X = np.array(padded_feature_vectors)\n",
    "\n",
    "# Perform feature scaling\n",
    "scaler = StandardScaler()\n",
    "X_scaled = scaler.fit_transform(X)\n",
    "\n",
    "# Apply PCA\n",
    "pca = PCA(n_components=2)  # You can specify the number of components you want to keep\n",
    "X_pca = pca.fit_transform(X_scaled)\n",
    "\n",
    "# The resulting X_pca will contain the transformed features after PCA"
   ]
  },
  {
   "cell_type": "code",
   "execution_count": 2,
   "id": "2bd7c7ca",
   "metadata": {},
   "outputs": [
    {
     "name": "stderr",
     "output_type": "stream",
     "text": [
      "C:\\Users\\priya\\anaconda3\\lib\\site-packages\\sklearn\\decomposition\\_pca.py:499: RuntimeWarning: invalid value encountered in divide\n",
      "  explained_variance_ = (S ** 2) / (n_samples - 1)\n"
     ]
    }
   ],
   "source": [
    "import cv2\n",
    "import numpy as np\n",
    "from sklearn.decomposition import PCA\n",
    "from sklearn.preprocessing import StandardScaler\n",
    "\n",
    "# Read the image using OpenCV\n",
    "image_path = 'carcinoma_in_situ/149315671-149315740-001_filtered_0.png'\n",
    "image = cv2.imread(image_path)\n",
    "\n",
    "# Convert the image to grayscale\n",
    "gray_image = cv2.cvtColor(image, cv2.COLOR_BGR2GRAY)\n",
    "\n",
    "# Reshape the grayscale image into a 1D vector\n",
    "features = gray_image.reshape(-1)\n",
    "\n",
    "# Convert the features into a 2D array (assuming you want to perform PCA on a single image)\n",
    "X = np.array([features])\n",
    "\n",
    "# Perform feature scaling\n",
    "scaler = StandardScaler()\n",
    "X_scaled = scaler.fit_transform(X)\n",
    "\n",
    "# Apply PCA\n",
    "pca = PCA(n_components=1)  # You can specify the number of components you want to keep\n",
    "X_pca = pca.fit_transform(X_scaled)\n",
    "\n",
    "# The resulting X_pca will contain the transformed features after PCA"
   ]
  },
  {
   "cell_type": "code",
   "execution_count": 4,
   "id": "26f90724",
   "metadata": {},
   "outputs": [
    {
     "name": "stderr",
     "output_type": "stream",
     "text": [
      "C:\\Users\\priya\\anaconda3\\lib\\site-packages\\sklearn\\decomposition\\_pca.py:499: RuntimeWarning: invalid value encountered in divide\n",
      "  explained_variance_ = (S ** 2) / (n_samples - 1)\n"
     ]
    }
   ],
   "source": [
    "import cv2\n",
    "import numpy as np\n",
    "from sklearn.decomposition import PCA\n",
    "from sklearn.preprocessing import StandardScaler\n",
    "\n",
    "# Read the image using OpenCV\n",
    "image_path = 'carcinoma_in_situ/149315671-149315740-001_filtered_0.png'\n",
    "image = cv2.imread(image_path)\n",
    "\n",
    "# Convert the image to grayscale\n",
    "gray_image = cv2.cvtColor(image, cv2.COLOR_BGR2GRAY)\n",
    "\n",
    "# Reshape the grayscale image into a 1D vector\n",
    "features = gray_image.reshape(-1)\n",
    "\n",
    "# Convert the features into a 2D array (assuming you want to perform PCA on a single image)\n",
    "X = np.array([features])\n",
    "\n",
    "# Check if the input data has non-zero variance\n",
    "if np.var(X) != 0:\n",
    "    # Perform feature scaling\n",
    "    scaler = StandardScaler()\n",
    "    X_scaled = scaler.fit_transform(X)\n",
    "\n",
    "    # Apply PCA\n",
    "    pca = PCA(n_components=1)  # Set n_components to 1\n",
    "    X_pca = pca.fit_transform(X_scaled)\n",
    "\n",
    "    # The resulting X_pca will contain the transformed features after PCA\n",
    "else:\n",
    "    # Handle the case when input data has zero variance\n",
    "    print(\"Input data has zero variance. PCA cannot be applied.\")"
   ]
  },
  {
   "cell_type": "code",
   "execution_count": null,
   "id": "7f7630c7",
   "metadata": {},
   "outputs": [],
   "source": []
  }
 ],
 "metadata": {
  "kernelspec": {
   "display_name": "Python 3 (ipykernel)",
   "language": "python",
   "name": "python3"
  },
  "language_info": {
   "codemirror_mode": {
    "name": "ipython",
    "version": 3
   },
   "file_extension": ".py",
   "mimetype": "text/x-python",
   "name": "python",
   "nbconvert_exporter": "python",
   "pygments_lexer": "ipython3",
   "version": "3.9.13"
  }
 },
 "nbformat": 4,
 "nbformat_minor": 5
}
