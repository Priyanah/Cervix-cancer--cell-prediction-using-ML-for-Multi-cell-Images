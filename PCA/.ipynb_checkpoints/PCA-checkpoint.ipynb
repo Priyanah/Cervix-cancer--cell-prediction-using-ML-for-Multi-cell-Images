{
 "cells": [
  {
   "cell_type": "code",
   "execution_count": 2,
   "id": "92a78aaa",
   "metadata": {},
   "outputs": [],
   "source": [
    "import os\n",
    "import cv2\n",
    "import numpy as np\n",
    "from sklearn.decomposition import PCA\n",
    "from sklearn.preprocessing import StandardScaler\n",
    "\n",
    "# Define the path to the folder containing the images\n",
    "folder_path = 'carcinoma_in_situ'\n",
    "\n",
    "# Initialize an empty list to store the feature vectors\n",
    "feature_vectors = []\n",
    "\n",
    "# Loop through each image in the folder\n",
    "for filename in os.listdir(folder_path):\n",
    "    image_path = os.path.join(folder_path, filename)\n",
    "\n",
    "    # Read the image using OpenCV\n",
    "    image = cv2.imread(image_path)\n",
    "\n",
    "    # Convert the image to grayscale\n",
    "    gray_image = cv2.cvtColor(image, cv2.COLOR_BGR2GRAY)\n",
    "\n",
    "    # Reshape the grayscale image into a 1D vector\n",
    "    features = gray_image.reshape(-1)\n",
    "\n",
    "    # Append the feature vector to the list\n",
    "    feature_vectors.append(features)\n",
    "\n",
    "# Find the maximum length of the feature vectors\n",
    "max_length = max(len(features) for features in feature_vectors)\n",
    "\n",
    "# Pad feature vectors with zeros to make them all the same length\n",
    "padded_feature_vectors = []\n",
    "for features in feature_vectors:\n",
    "    padding = max_length - len(features)\n",
    "    padded_features = np.pad(features, (0, padding), mode='constant')\n",
    "    padded_feature_vectors.append(padded_features)\n",
    "\n",
    "# Convert the padded_feature_vectors list to a numpy array\n",
    "X = np.array(padded_feature_vectors)\n",
    "\n",
    "# Perform feature scaling\n",
    "scaler = StandardScaler()\n",
    "X_scaled = scaler.fit_transform(X)\n",
    "\n",
    "# Apply PCA\n",
    "pca = PCA(n_components=2)  # You can specify the number of components you want to keep\n",
    "X_pca = pca.fit_transform(X_scaled)\n",
    "\n",
    "# The resulting X_pca will contain the transformed features after PCA"
   ]
  },
  {
   "cell_type": "code",
   "execution_count": 9,
   "id": "2bd7c7ca",
   "metadata": {},
   "outputs": [
    {
     "name": "stderr",
     "output_type": "stream",
     "text": [
      "C:\\Users\\priya\\anaconda3\\lib\\site-packages\\sklearn\\decomposition\\_pca.py:499: RuntimeWarning: invalid value encountered in divide\n",
      "  explained_variance_ = (S ** 2) / (n_samples - 1)\n"
     ]
    }
   ],
   "source": [
    "import cv2\n",
    "import numpy as np\n",
    "from sklearn.decomposition import PCA\n",
    "from sklearn.preprocessing import StandardScaler\n",
    "\n",
    "# Read the image using OpenCV\n",
    "image_path = 'carcinoma_in_situ/149315671-149315740-001_filtered_0.png'\n",
    "image = cv2.imread(image_path)\n",
    "\n",
    "# Convert the image to grayscale\n",
    "gray_image = cv2.cvtColor(image, cv2.COLOR_BGR2GRAY)\n",
    "\n",
    "# Reshape the grayscale image into a 1D vector\n",
    "features = gray_image.flatten().astype(float)\n",
    "\n",
    "# Perform feature scaling\n",
    "scaler = StandardScaler()\n",
    "X_scaled = scaler.fit_transform(features.reshape(1, -1))\n",
    "\n",
    "# Apply PCA\n",
    "pca = PCA(n_components=1)  # Set n_components to 1\n",
    "X_pca = pca.fit_transform(X_scaled)\n",
    "\n",
    "# The resulting X_pca will contain the transformed features after PCA"
   ]
  },
  {
   "cell_type": "code",
   "execution_count": 16,
   "id": "cc3258d3",
   "metadata": {},
   "outputs": [],
   "source": [
    "import matplotlib.pyplot as plt\n",
    "import numpy as np\n",
    "from sklearn.decomposition import PCA\n",
    "from matplotlib.pyplot import imread"
   ]
  },
  {
   "cell_type": "code",
   "execution_count": 1,
   "id": "8ca337b7",
   "metadata": {},
   "outputs": [
    {
     "ename": "NameError",
     "evalue": "name 'imread' is not defined",
     "output_type": "error",
     "traceback": [
      "\u001b[1;31m---------------------------------------------------------------------------\u001b[0m",
      "\u001b[1;31mNameError\u001b[0m                                 Traceback (most recent call last)",
      "\u001b[1;32m~\\AppData\\Local\\Temp\\ipykernel_22072\\762930395.py\u001b[0m in \u001b[0;36m<module>\u001b[1;34m\u001b[0m\n\u001b[1;32m----> 1\u001b[1;33m \u001b[0mimg\u001b[0m \u001b[1;33m=\u001b[0m \u001b[0mimread\u001b[0m\u001b[1;33m(\u001b[0m\u001b[1;34m\"carcinoma_in_situ/149315671-149315740-001_filtered_0.png\"\u001b[0m\u001b[1;33m)\u001b[0m\u001b[1;33m\u001b[0m\u001b[1;33m\u001b[0m\u001b[0m\n\u001b[0m\u001b[0;32m      2\u001b[0m \u001b[0mimg\u001b[0m \u001b[1;33m=\u001b[0m \u001b[0mimg\u001b[0m\u001b[1;33m.\u001b[0m\u001b[0mastype\u001b[0m\u001b[1;33m(\u001b[0m\u001b[0mnp\u001b[0m\u001b[1;33m.\u001b[0m\u001b[0muint8\u001b[0m\u001b[1;33m)\u001b[0m\u001b[1;33m\u001b[0m\u001b[1;33m\u001b[0m\u001b[0m\n\u001b[0;32m      3\u001b[0m \u001b[0mimg\u001b[0m \u001b[1;33m=\u001b[0m \u001b[0mimg\u001b[0m\u001b[1;33m/\u001b[0m\u001b[1;36m300\u001b[0m\u001b[1;33m\u001b[0m\u001b[1;33m\u001b[0m\u001b[0m\n\u001b[0;32m      4\u001b[0m \u001b[0mimg\u001b[0m \u001b[1;33m=\u001b[0m \u001b[0mimg\u001b[0m\u001b[1;33m.\u001b[0m\u001b[0mmean\u001b[0m\u001b[1;33m(\u001b[0m\u001b[0maxis\u001b[0m \u001b[1;33m=\u001b[0m \u001b[1;36m2\u001b[0m\u001b[1;33m)\u001b[0m\u001b[1;33m\u001b[0m\u001b[1;33m\u001b[0m\u001b[0m\n\u001b[0;32m      5\u001b[0m \u001b[0mplt\u001b[0m\u001b[1;33m.\u001b[0m\u001b[0mimshow\u001b[0m\u001b[1;33m(\u001b[0m\u001b[0mimg\u001b[0m\u001b[1;33m,\u001b[0m \u001b[0mcmap\u001b[0m \u001b[1;33m=\u001b[0m \u001b[1;34m\"gray\"\u001b[0m\u001b[1;33m)\u001b[0m\u001b[1;33m\u001b[0m\u001b[1;33m\u001b[0m\u001b[0m\n",
      "\u001b[1;31mNameError\u001b[0m: name 'imread' is not defined"
     ]
    }
   ],
   "source": [
    "img = imread(\"carcinoma_in_situ/149315671-149315740-001_filtered_0.png\")\n",
    "img = img.astype(np.uint8)\n",
    "img = img/255\n",
    "img = img.mean(axis = 2)\n",
    "plt.imshow(img, cmap = \"gray\")"
   ]
  },
  {
   "cell_type": "code",
   "execution_count": 39,
   "id": "50b520a3",
   "metadata": {},
   "outputs": [],
   "source": [
    "def transform(percentage):\n",
    "    percentage = percentage/100\n",
    "    tswizzle_pca = PCA(n_components = percentage).fit(img)\n",
    "    transformed = tswizzle_pca.transform(img)\n",
    "    projection = tswizzle_pca.inverse_transform(transformed)\n",
    "    plt.imshow(projection, cmap=\"gray\")"
   ]
  },
  {
   "cell_type": "code",
   "execution_count": 42,
   "id": "5ff8159c",
   "metadata": {},
   "outputs": [
    {
     "data": {
      "image/png": "[encoded data removed]",
      "text/plain": [
       "<Figure size 640x480 with 1 Axes>"
      ]
     },
     "metadata": {},
     "output_type": "display_data"
    }
   ],
   "source": [
    "transform(89)"
   ]
  }
 ],
 "metadata": {
  "kernelspec": {
   "display_name": "Python 3 (ipykernel)",
   "language": "python",
   "name": "python3"
  },
  "language_info": {
   "codemirror_mode": {
    "name": "ipython",
    "version": 3
   },
   "file_extension": ".py",
   "mimetype": "text/x-python",
   "name": "python",
   "nbconvert_exporter": "python",
   "pygments_lexer": "ipython3",
   "version": "3.9.13"
  }
 },
 "nbformat": 4,
 "nbformat_minor": 5
}
